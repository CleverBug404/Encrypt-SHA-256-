{
 "cells": [
  {
   "cell_type": "code",
   "execution_count": 24,
   "metadata": {},
   "outputs": [
    {
     "name": "stdout",
     "output_type": "stream",
     "text": [
      "[0, 1, 2, 3, 4, '_', '_', '_', '_', '_']\n"
     ]
    }
   ],
   "source": [
    "nums = [0,0,1,1,1,2,2,3,3,4]\n",
    "numsSize = len(nums)\n",
    "nums = list(dict.fromkeys(nums))\n",
    "\n",
    "while len(nums) < numsSize:\n",
    "    nums.append(\"_\")\n",
    "    \n",
    "print(nums)"
   ]
  }
 ],
 "metadata": {
  "kernelspec": {
   "display_name": "Python 3.10.2 64-bit",
   "language": "python",
   "name": "python3"
  },
  "language_info": {
   "name": "python",
   "version": "3.10.2"
  },
  "orig_nbformat": 4,
  "vscode": {
   "interpreter": {
    "hash": "3c9d0a812a7bc00a203e34e44b43385cc9e0c751b621fdc170b59917adef27f5"
   }
  }
 },
 "nbformat": 4,
 "nbformat_minor": 2
}
